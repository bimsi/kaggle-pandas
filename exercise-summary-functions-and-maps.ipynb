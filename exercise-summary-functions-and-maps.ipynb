{
 "cells": [
  {
   "cell_type": "markdown",
   "id": "eafa2eb7",
   "metadata": {
    "papermill": {
     "duration": 0.008502,
     "end_time": "2023-12-10T03:29:51.701870",
     "exception": false,
     "start_time": "2023-12-10T03:29:51.693368",
     "status": "completed"
    },
    "tags": []
   },
   "source": [
    "**This notebook is an exercise in the [Pandas](https://www.kaggle.com/learn/pandas) course.  You can reference the tutorial at [this link](https://www.kaggle.com/residentmario/summary-functions-and-maps).**\n",
    "\n",
    "---\n"
   ]
  },
  {
   "cell_type": "markdown",
   "id": "f612c056",
   "metadata": {
    "papermill": {
     "duration": 0.007763,
     "end_time": "2023-12-10T03:29:51.717745",
     "exception": false,
     "start_time": "2023-12-10T03:29:51.709982",
     "status": "completed"
    },
    "tags": []
   },
   "source": [
    "# Introduction\n",
    "\n",
    "Now you are ready to get a deeper understanding of your data.\n",
    "\n",
    "Run the following cell to load your data and some utility functions (including code to check your answers)."
   ]
  },
  {
   "cell_type": "code",
   "execution_count": 1,
   "id": "239e7f8b",
   "metadata": {
    "execution": {
     "iopub.execute_input": "2023-12-10T03:29:51.735963Z",
     "iopub.status.busy": "2023-12-10T03:29:51.735238Z",
     "iopub.status.idle": "2023-12-10T03:30:00.943876Z",
     "shell.execute_reply": "2023-12-10T03:30:00.942420Z"
    },
    "papermill": {
     "duration": 9.220742,
     "end_time": "2023-12-10T03:30:00.946506",
     "exception": false,
     "start_time": "2023-12-10T03:29:51.725764",
     "status": "completed"
    },
    "tags": []
   },
   "outputs": [
    {
     "name": "stdout",
     "output_type": "stream",
     "text": [
      "Setup complete.\n"
     ]
    },
    {
     "data": {
      "text/html": [
       "<div>\n",
       "<style scoped>\n",
       "    .dataframe tbody tr th:only-of-type {\n",
       "        vertical-align: middle;\n",
       "    }\n",
       "\n",
       "    .dataframe tbody tr th {\n",
       "        vertical-align: top;\n",
       "    }\n",
       "\n",
       "    .dataframe thead th {\n",
       "        text-align: right;\n",
       "    }\n",
       "</style>\n",
       "<table border=\"1\" class=\"dataframe\">\n",
       "  <thead>\n",
       "    <tr style=\"text-align: right;\">\n",
       "      <th></th>\n",
       "      <th>country</th>\n",
       "      <th>description</th>\n",
       "      <th>designation</th>\n",
       "      <th>points</th>\n",
       "      <th>price</th>\n",
       "      <th>province</th>\n",
       "      <th>region_1</th>\n",
       "      <th>region_2</th>\n",
       "      <th>taster_name</th>\n",
       "      <th>taster_twitter_handle</th>\n",
       "      <th>title</th>\n",
       "      <th>variety</th>\n",
       "      <th>winery</th>\n",
       "    </tr>\n",
       "  </thead>\n",
       "  <tbody>\n",
       "    <tr>\n",
       "      <th>0</th>\n",
       "      <td>Italy</td>\n",
       "      <td>Aromas include tropical fruit, broom, brimston...</td>\n",
       "      <td>Vulkà Bianco</td>\n",
       "      <td>87</td>\n",
       "      <td>NaN</td>\n",
       "      <td>Sicily &amp; Sardinia</td>\n",
       "      <td>Etna</td>\n",
       "      <td>NaN</td>\n",
       "      <td>Kerin O’Keefe</td>\n",
       "      <td>@kerinokeefe</td>\n",
       "      <td>Nicosia 2013 Vulkà Bianco  (Etna)</td>\n",
       "      <td>White Blend</td>\n",
       "      <td>Nicosia</td>\n",
       "    </tr>\n",
       "    <tr>\n",
       "      <th>1</th>\n",
       "      <td>Portugal</td>\n",
       "      <td>This is ripe and fruity, a wine that is smooth...</td>\n",
       "      <td>Avidagos</td>\n",
       "      <td>87</td>\n",
       "      <td>15.0</td>\n",
       "      <td>Douro</td>\n",
       "      <td>NaN</td>\n",
       "      <td>NaN</td>\n",
       "      <td>Roger Voss</td>\n",
       "      <td>@vossroger</td>\n",
       "      <td>Quinta dos Avidagos 2011 Avidagos Red (Douro)</td>\n",
       "      <td>Portuguese Red</td>\n",
       "      <td>Quinta dos Avidagos</td>\n",
       "    </tr>\n",
       "    <tr>\n",
       "      <th>2</th>\n",
       "      <td>US</td>\n",
       "      <td>Tart and snappy, the flavors of lime flesh and...</td>\n",
       "      <td>NaN</td>\n",
       "      <td>87</td>\n",
       "      <td>14.0</td>\n",
       "      <td>Oregon</td>\n",
       "      <td>Willamette Valley</td>\n",
       "      <td>Willamette Valley</td>\n",
       "      <td>Paul Gregutt</td>\n",
       "      <td>@paulgwine</td>\n",
       "      <td>Rainstorm 2013 Pinot Gris (Willamette Valley)</td>\n",
       "      <td>Pinot Gris</td>\n",
       "      <td>Rainstorm</td>\n",
       "    </tr>\n",
       "    <tr>\n",
       "      <th>3</th>\n",
       "      <td>US</td>\n",
       "      <td>Pineapple rind, lemon pith and orange blossom ...</td>\n",
       "      <td>Reserve Late Harvest</td>\n",
       "      <td>87</td>\n",
       "      <td>13.0</td>\n",
       "      <td>Michigan</td>\n",
       "      <td>Lake Michigan Shore</td>\n",
       "      <td>NaN</td>\n",
       "      <td>Alexander Peartree</td>\n",
       "      <td>NaN</td>\n",
       "      <td>St. Julian 2013 Reserve Late Harvest Riesling ...</td>\n",
       "      <td>Riesling</td>\n",
       "      <td>St. Julian</td>\n",
       "    </tr>\n",
       "    <tr>\n",
       "      <th>4</th>\n",
       "      <td>US</td>\n",
       "      <td>Much like the regular bottling from 2012, this...</td>\n",
       "      <td>Vintner's Reserve Wild Child Block</td>\n",
       "      <td>87</td>\n",
       "      <td>65.0</td>\n",
       "      <td>Oregon</td>\n",
       "      <td>Willamette Valley</td>\n",
       "      <td>Willamette Valley</td>\n",
       "      <td>Paul Gregutt</td>\n",
       "      <td>@paulgwine</td>\n",
       "      <td>Sweet Cheeks 2012 Vintner's Reserve Wild Child...</td>\n",
       "      <td>Pinot Noir</td>\n",
       "      <td>Sweet Cheeks</td>\n",
       "    </tr>\n",
       "  </tbody>\n",
       "</table>\n",
       "</div>"
      ],
      "text/plain": [
       "    country                                        description  \\\n",
       "0     Italy  Aromas include tropical fruit, broom, brimston...   \n",
       "1  Portugal  This is ripe and fruity, a wine that is smooth...   \n",
       "2        US  Tart and snappy, the flavors of lime flesh and...   \n",
       "3        US  Pineapple rind, lemon pith and orange blossom ...   \n",
       "4        US  Much like the regular bottling from 2012, this...   \n",
       "\n",
       "                          designation  points  price           province  \\\n",
       "0                        Vulkà Bianco      87    NaN  Sicily & Sardinia   \n",
       "1                            Avidagos      87   15.0              Douro   \n",
       "2                                 NaN      87   14.0             Oregon   \n",
       "3                Reserve Late Harvest      87   13.0           Michigan   \n",
       "4  Vintner's Reserve Wild Child Block      87   65.0             Oregon   \n",
       "\n",
       "              region_1           region_2         taster_name  \\\n",
       "0                 Etna                NaN       Kerin O’Keefe   \n",
       "1                  NaN                NaN          Roger Voss   \n",
       "2    Willamette Valley  Willamette Valley        Paul Gregutt   \n",
       "3  Lake Michigan Shore                NaN  Alexander Peartree   \n",
       "4    Willamette Valley  Willamette Valley        Paul Gregutt   \n",
       "\n",
       "  taster_twitter_handle                                              title  \\\n",
       "0          @kerinokeefe                  Nicosia 2013 Vulkà Bianco  (Etna)   \n",
       "1            @vossroger      Quinta dos Avidagos 2011 Avidagos Red (Douro)   \n",
       "2           @paulgwine       Rainstorm 2013 Pinot Gris (Willamette Valley)   \n",
       "3                   NaN  St. Julian 2013 Reserve Late Harvest Riesling ...   \n",
       "4           @paulgwine   Sweet Cheeks 2012 Vintner's Reserve Wild Child...   \n",
       "\n",
       "          variety               winery  \n",
       "0     White Blend              Nicosia  \n",
       "1  Portuguese Red  Quinta dos Avidagos  \n",
       "2      Pinot Gris            Rainstorm  \n",
       "3        Riesling           St. Julian  \n",
       "4      Pinot Noir         Sweet Cheeks  "
      ]
     },
     "execution_count": 1,
     "metadata": {},
     "output_type": "execute_result"
    }
   ],
   "source": [
    "import pandas as pd\n",
    "pd.set_option(\"display.max_rows\", 5)\n",
    "reviews = pd.read_csv(\"../input/wine-reviews/winemag-data-130k-v2.csv\", index_col=0)\n",
    "\n",
    "from learntools.core import binder; binder.bind(globals())\n",
    "from learntools.pandas.summary_functions_and_maps import *\n",
    "print(\"Setup complete.\")\n",
    "\n",
    "reviews.head()"
   ]
  },
  {
   "cell_type": "markdown",
   "id": "d7b7ae21",
   "metadata": {
    "papermill": {
     "duration": 0.008157,
     "end_time": "2023-12-10T03:30:00.963506",
     "exception": false,
     "start_time": "2023-12-10T03:30:00.955349",
     "status": "completed"
    },
    "tags": []
   },
   "source": [
    "# Exercises"
   ]
  },
  {
   "cell_type": "markdown",
   "id": "db626ae0",
   "metadata": {
    "papermill": {
     "duration": 0.008169,
     "end_time": "2023-12-10T03:30:00.980195",
     "exception": false,
     "start_time": "2023-12-10T03:30:00.972026",
     "status": "completed"
    },
    "tags": []
   },
   "source": [
    "## 1.\n",
    "\n",
    "What is the median of the `points` column in the `reviews` DataFrame?"
   ]
  },
  {
   "cell_type": "code",
   "execution_count": 2,
   "id": "9b3848a4",
   "metadata": {
    "execution": {
     "iopub.execute_input": "2023-12-10T03:30:00.998838Z",
     "iopub.status.busy": "2023-12-10T03:30:00.998447Z",
     "iopub.status.idle": "2023-12-10T03:30:01.009244Z",
     "shell.execute_reply": "2023-12-10T03:30:01.008301Z"
    },
    "papermill": {
     "duration": 0.022841,
     "end_time": "2023-12-10T03:30:01.011410",
     "exception": false,
     "start_time": "2023-12-10T03:30:00.988569",
     "status": "completed"
    },
    "tags": []
   },
   "outputs": [
    {
     "data": {
      "application/javascript": [
       "parent.postMessage({\"jupyterEvent\": \"custom.exercise_interaction\", \"data\": {\"outcomeType\": 1, \"valueTowardsCompletion\": 0.14285714285714285, \"interactionType\": 1, \"questionType\": 1, \"questionId\": \"1_MedianPoints\", \"learnToolsVersion\": \"0.3.4\", \"failureMessage\": \"\", \"exceptionClass\": \"\", \"trace\": \"\"}}, \"*\")"
      ],
      "text/plain": [
       "<IPython.core.display.Javascript object>"
      ]
     },
     "metadata": {},
     "output_type": "display_data"
    },
    {
     "data": {
      "text/markdown": [
       "<span style=\"color:#33cc33\">Correct</span>"
      ],
      "text/plain": [
       "Correct"
      ]
     },
     "metadata": {},
     "output_type": "display_data"
    }
   ],
   "source": [
    "median_points = reviews.points.median()\n",
    "\n",
    "# Check your answer\n",
    "q1.check()"
   ]
  },
  {
   "cell_type": "code",
   "execution_count": 3,
   "id": "a366093c",
   "metadata": {
    "execution": {
     "iopub.execute_input": "2023-12-10T03:30:01.031593Z",
     "iopub.status.busy": "2023-12-10T03:30:01.031117Z",
     "iopub.status.idle": "2023-12-10T03:30:01.035979Z",
     "shell.execute_reply": "2023-12-10T03:30:01.034706Z"
    },
    "papermill": {
     "duration": 0.018037,
     "end_time": "2023-12-10T03:30:01.038400",
     "exception": false,
     "start_time": "2023-12-10T03:30:01.020363",
     "status": "completed"
    },
    "tags": []
   },
   "outputs": [],
   "source": [
    "#q1.hint()\n",
    "#q1.solution()"
   ]
  },
  {
   "cell_type": "markdown",
   "id": "27ce3a0f",
   "metadata": {
    "papermill": {
     "duration": 0.008954,
     "end_time": "2023-12-10T03:30:01.056503",
     "exception": false,
     "start_time": "2023-12-10T03:30:01.047549",
     "status": "completed"
    },
    "tags": []
   },
   "source": [
    "## 2. \n",
    "What countries are represented in the dataset? (Your answer should not include any duplicates.)"
   ]
  },
  {
   "cell_type": "code",
   "execution_count": 4,
   "id": "7487d72f",
   "metadata": {
    "execution": {
     "iopub.execute_input": "2023-12-10T03:30:01.076971Z",
     "iopub.status.busy": "2023-12-10T03:30:01.076194Z",
     "iopub.status.idle": "2023-12-10T03:30:01.096541Z",
     "shell.execute_reply": "2023-12-10T03:30:01.095777Z"
    },
    "papermill": {
     "duration": 0.033026,
     "end_time": "2023-12-10T03:30:01.098648",
     "exception": false,
     "start_time": "2023-12-10T03:30:01.065622",
     "status": "completed"
    },
    "tags": []
   },
   "outputs": [
    {
     "data": {
      "application/javascript": [
       "parent.postMessage({\"jupyterEvent\": \"custom.exercise_interaction\", \"data\": {\"outcomeType\": 1, \"valueTowardsCompletion\": 0.14285714285714285, \"interactionType\": 1, \"questionType\": 2, \"questionId\": \"2_UniqueCountries\", \"learnToolsVersion\": \"0.3.4\", \"failureMessage\": \"\", \"exceptionClass\": \"\", \"trace\": \"\"}}, \"*\")"
      ],
      "text/plain": [
       "<IPython.core.display.Javascript object>"
      ]
     },
     "metadata": {},
     "output_type": "display_data"
    },
    {
     "data": {
      "text/markdown": [
       "<span style=\"color:#33cc33\">Correct</span>"
      ],
      "text/plain": [
       "Correct"
      ]
     },
     "metadata": {},
     "output_type": "display_data"
    }
   ],
   "source": [
    "countries = reviews.country.unique()\n",
    "\n",
    "# Check your answer\n",
    "q2.check()"
   ]
  },
  {
   "cell_type": "code",
   "execution_count": 5,
   "id": "352a3a8a",
   "metadata": {
    "execution": {
     "iopub.execute_input": "2023-12-10T03:30:01.119872Z",
     "iopub.status.busy": "2023-12-10T03:30:01.119185Z",
     "iopub.status.idle": "2023-12-10T03:30:01.123612Z",
     "shell.execute_reply": "2023-12-10T03:30:01.122559Z"
    },
    "papermill": {
     "duration": 0.018066,
     "end_time": "2023-12-10T03:30:01.126183",
     "exception": false,
     "start_time": "2023-12-10T03:30:01.108117",
     "status": "completed"
    },
    "tags": []
   },
   "outputs": [],
   "source": [
    "#q2.hint()\n",
    "#q2.solution()"
   ]
  },
  {
   "cell_type": "markdown",
   "id": "25fb5a1b",
   "metadata": {
    "papermill": {
     "duration": 0.009057,
     "end_time": "2023-12-10T03:30:01.144754",
     "exception": false,
     "start_time": "2023-12-10T03:30:01.135697",
     "status": "completed"
    },
    "tags": []
   },
   "source": [
    "## 3.\n",
    "How often does each country appear in the dataset? Create a Series `reviews_per_country` mapping countries to the count of reviews of wines from that country."
   ]
  },
  {
   "cell_type": "code",
   "execution_count": 6,
   "id": "3e31a809",
   "metadata": {
    "execution": {
     "iopub.execute_input": "2023-12-10T03:30:01.170380Z",
     "iopub.status.busy": "2023-12-10T03:30:01.169481Z",
     "iopub.status.idle": "2023-12-10T03:30:01.205396Z",
     "shell.execute_reply": "2023-12-10T03:30:01.204596Z"
    },
    "papermill": {
     "duration": 0.052905,
     "end_time": "2023-12-10T03:30:01.208594",
     "exception": false,
     "start_time": "2023-12-10T03:30:01.155689",
     "status": "completed"
    },
    "tags": []
   },
   "outputs": [
    {
     "data": {
      "application/javascript": [
       "parent.postMessage({\"jupyterEvent\": \"custom.exercise_interaction\", \"data\": {\"outcomeType\": 1, \"valueTowardsCompletion\": 0.14285714285714285, \"interactionType\": 1, \"questionType\": 1, \"questionId\": \"3_ReviewsPerCountry\", \"learnToolsVersion\": \"0.3.4\", \"failureMessage\": \"\", \"exceptionClass\": \"\", \"trace\": \"\"}}, \"*\")"
      ],
      "text/plain": [
       "<IPython.core.display.Javascript object>"
      ]
     },
     "metadata": {},
     "output_type": "display_data"
    },
    {
     "data": {
      "text/markdown": [
       "<span style=\"color:#33cc33\">Correct</span>"
      ],
      "text/plain": [
       "Correct"
      ]
     },
     "metadata": {},
     "output_type": "display_data"
    }
   ],
   "source": [
    "reviews_per_country = reviews.country.value_counts()\n",
    "\n",
    "# Check your answer\n",
    "q3.check()"
   ]
  },
  {
   "cell_type": "code",
   "execution_count": 7,
   "id": "50dbaba3",
   "metadata": {
    "execution": {
     "iopub.execute_input": "2023-12-10T03:30:01.236359Z",
     "iopub.status.busy": "2023-12-10T03:30:01.235574Z",
     "iopub.status.idle": "2023-12-10T03:30:01.240658Z",
     "shell.execute_reply": "2023-12-10T03:30:01.239744Z"
    },
    "papermill": {
     "duration": 0.02114,
     "end_time": "2023-12-10T03:30:01.242970",
     "exception": false,
     "start_time": "2023-12-10T03:30:01.221830",
     "status": "completed"
    },
    "tags": []
   },
   "outputs": [],
   "source": [
    "#q3.hint()\n",
    "#q3.solution()"
   ]
  },
  {
   "cell_type": "markdown",
   "id": "453b749b",
   "metadata": {
    "papermill": {
     "duration": 0.010233,
     "end_time": "2023-12-10T03:30:01.263731",
     "exception": false,
     "start_time": "2023-12-10T03:30:01.253498",
     "status": "completed"
    },
    "tags": []
   },
   "source": [
    "## 4.\n",
    "Create variable `centered_price` containing a version of the `price` column with the mean price subtracted.\n",
    "\n",
    "(Note: this 'centering' transformation is a common preprocessing step before applying various machine learning algorithms.) "
   ]
  },
  {
   "cell_type": "code",
   "execution_count": 8,
   "id": "620ecbae",
   "metadata": {
    "execution": {
     "iopub.execute_input": "2023-12-10T03:30:01.289572Z",
     "iopub.status.busy": "2023-12-10T03:30:01.288762Z",
     "iopub.status.idle": "2023-12-10T03:30:01.300619Z",
     "shell.execute_reply": "2023-12-10T03:30:01.299509Z"
    },
    "papermill": {
     "duration": 0.027595,
     "end_time": "2023-12-10T03:30:01.302959",
     "exception": false,
     "start_time": "2023-12-10T03:30:01.275364",
     "status": "completed"
    },
    "tags": []
   },
   "outputs": [
    {
     "data": {
      "application/javascript": [
       "parent.postMessage({\"jupyterEvent\": \"custom.exercise_interaction\", \"data\": {\"outcomeType\": 1, \"valueTowardsCompletion\": 0.14285714285714285, \"interactionType\": 1, \"questionType\": 1, \"questionId\": \"4_CenteredPrice\", \"learnToolsVersion\": \"0.3.4\", \"failureMessage\": \"\", \"exceptionClass\": \"\", \"trace\": \"\"}}, \"*\")"
      ],
      "text/plain": [
       "<IPython.core.display.Javascript object>"
      ]
     },
     "metadata": {},
     "output_type": "display_data"
    },
    {
     "data": {
      "text/markdown": [
       "<span style=\"color:#33cc33\">Correct</span>"
      ],
      "text/plain": [
       "Correct"
      ]
     },
     "metadata": {},
     "output_type": "display_data"
    }
   ],
   "source": [
    "centered_price = reviews.price - reviews.price.mean()\n",
    "\n",
    "# Check your answer\n",
    "q4.check()"
   ]
  },
  {
   "cell_type": "code",
   "execution_count": 9,
   "id": "f197b22f",
   "metadata": {
    "execution": {
     "iopub.execute_input": "2023-12-10T03:30:01.326126Z",
     "iopub.status.busy": "2023-12-10T03:30:01.325345Z",
     "iopub.status.idle": "2023-12-10T03:30:01.330028Z",
     "shell.execute_reply": "2023-12-10T03:30:01.329243Z"
    },
    "papermill": {
     "duration": 0.019027,
     "end_time": "2023-12-10T03:30:01.332484",
     "exception": false,
     "start_time": "2023-12-10T03:30:01.313457",
     "status": "completed"
    },
    "tags": []
   },
   "outputs": [],
   "source": [
    "#q4.hint()\n",
    "#q4.solution()"
   ]
  },
  {
   "cell_type": "markdown",
   "id": "e6aa14a3",
   "metadata": {
    "papermill": {
     "duration": 0.010012,
     "end_time": "2023-12-10T03:30:01.352878",
     "exception": false,
     "start_time": "2023-12-10T03:30:01.342866",
     "status": "completed"
    },
    "tags": []
   },
   "source": [
    "## 5.\n",
    "I'm an economical wine buyer. Which wine is the \"best bargain\"? Create a variable `bargain_wine` with the title of the wine with the highest points-to-price ratio in the dataset."
   ]
  },
  {
   "cell_type": "code",
   "execution_count": 10,
   "id": "97f54d76",
   "metadata": {
    "execution": {
     "iopub.execute_input": "2023-12-10T03:30:01.376024Z",
     "iopub.status.busy": "2023-12-10T03:30:01.375231Z",
     "iopub.status.idle": "2023-12-10T03:30:01.391452Z",
     "shell.execute_reply": "2023-12-10T03:30:01.390300Z"
    },
    "papermill": {
     "duration": 0.03054,
     "end_time": "2023-12-10T03:30:01.393886",
     "exception": false,
     "start_time": "2023-12-10T03:30:01.363346",
     "status": "completed"
    },
    "tags": []
   },
   "outputs": [
    {
     "data": {
      "application/javascript": [
       "parent.postMessage({\"jupyterEvent\": \"custom.exercise_interaction\", \"data\": {\"outcomeType\": 1, \"valueTowardsCompletion\": 0.14285714285714285, \"interactionType\": 1, \"questionType\": 2, \"questionId\": \"5_BargainWine\", \"learnToolsVersion\": \"0.3.4\", \"failureMessage\": \"\", \"exceptionClass\": \"\", \"trace\": \"\"}}, \"*\")"
      ],
      "text/plain": [
       "<IPython.core.display.Javascript object>"
      ]
     },
     "metadata": {},
     "output_type": "display_data"
    },
    {
     "data": {
      "text/markdown": [
       "<span style=\"color:#33cc33\">Correct</span>"
      ],
      "text/plain": [
       "Correct"
      ]
     },
     "metadata": {},
     "output_type": "display_data"
    }
   ],
   "source": [
    "bargain_idx = (reviews.points / reviews.price).idxmax()\n",
    "bargain_wine = reviews.loc[bargain_idx, 'title']\n",
    "\n",
    "# Check your answer\n",
    "q5.check()"
   ]
  },
  {
   "cell_type": "code",
   "execution_count": 11,
   "id": "1ea0f300",
   "metadata": {
    "execution": {
     "iopub.execute_input": "2023-12-10T03:30:01.417382Z",
     "iopub.status.busy": "2023-12-10T03:30:01.416963Z",
     "iopub.status.idle": "2023-12-10T03:30:01.421258Z",
     "shell.execute_reply": "2023-12-10T03:30:01.420152Z"
    },
    "papermill": {
     "duration": 0.019283,
     "end_time": "2023-12-10T03:30:01.423722",
     "exception": false,
     "start_time": "2023-12-10T03:30:01.404439",
     "status": "completed"
    },
    "tags": []
   },
   "outputs": [],
   "source": [
    "#q5.hint()\n",
    "#q5.solution()"
   ]
  },
  {
   "cell_type": "markdown",
   "id": "87fd1452",
   "metadata": {
    "papermill": {
     "duration": 0.010417,
     "end_time": "2023-12-10T03:30:01.444747",
     "exception": false,
     "start_time": "2023-12-10T03:30:01.434330",
     "status": "completed"
    },
    "tags": []
   },
   "source": [
    "## 6.\n",
    "There are only so many words you can use when describing a bottle of wine. Is a wine more likely to be \"tropical\" or \"fruity\"? Create a Series `descriptor_counts` counting how many times each of these two words appears in the `description` column in the dataset. (For simplicity, let's ignore the capitalized versions of these words.)"
   ]
  },
  {
   "cell_type": "code",
   "execution_count": 12,
   "id": "1fc56638",
   "metadata": {
    "execution": {
     "iopub.execute_input": "2023-12-10T03:30:01.469082Z",
     "iopub.status.busy": "2023-12-10T03:30:01.468036Z",
     "iopub.status.idle": "2023-12-10T03:30:01.641485Z",
     "shell.execute_reply": "2023-12-10T03:30:01.640325Z"
    },
    "papermill": {
     "duration": 0.18806,
     "end_time": "2023-12-10T03:30:01.644017",
     "exception": false,
     "start_time": "2023-12-10T03:30:01.455957",
     "status": "completed"
    },
    "tags": []
   },
   "outputs": [
    {
     "data": {
      "application/javascript": [
       "parent.postMessage({\"jupyterEvent\": \"custom.exercise_interaction\", \"data\": {\"outcomeType\": 1, \"valueTowardsCompletion\": 0.14285714285714285, \"interactionType\": 1, \"questionType\": 1, \"questionId\": \"6_DescriptorCounts\", \"learnToolsVersion\": \"0.3.4\", \"failureMessage\": \"\", \"exceptionClass\": \"\", \"trace\": \"\"}}, \"*\")"
      ],
      "text/plain": [
       "<IPython.core.display.Javascript object>"
      ]
     },
     "metadata": {},
     "output_type": "display_data"
    },
    {
     "data": {
      "text/markdown": [
       "<span style=\"color:#33cc33\">Correct</span>"
      ],
      "text/plain": [
       "Correct"
      ]
     },
     "metadata": {},
     "output_type": "display_data"
    }
   ],
   "source": [
    "tro = reviews.description.map(lambda desc:\"tropical\"in desc).sum()\n",
    "fru = reviews.description.map(lambda desc : \"fruity\"in desc).sum()\n",
    "descriptor_counts = pd.Series([tro,fru], index = [\"tropical\", \"fruity\"])\n",
    "\n",
    "# Check your answer\n",
    "q6.check()"
   ]
  },
  {
   "cell_type": "code",
   "execution_count": 13,
   "id": "052a0a46",
   "metadata": {
    "execution": {
     "iopub.execute_input": "2023-12-10T03:30:01.668725Z",
     "iopub.status.busy": "2023-12-10T03:30:01.667422Z",
     "iopub.status.idle": "2023-12-10T03:30:01.673248Z",
     "shell.execute_reply": "2023-12-10T03:30:01.672312Z"
    },
    "papermill": {
     "duration": 0.020869,
     "end_time": "2023-12-10T03:30:01.675673",
     "exception": false,
     "start_time": "2023-12-10T03:30:01.654804",
     "status": "completed"
    },
    "tags": []
   },
   "outputs": [],
   "source": [
    "#q6.hint()\n",
    "#q6.solution()"
   ]
  },
  {
   "cell_type": "markdown",
   "id": "47e26b3f",
   "metadata": {
    "papermill": {
     "duration": 0.010651,
     "end_time": "2023-12-10T03:30:01.697373",
     "exception": false,
     "start_time": "2023-12-10T03:30:01.686722",
     "status": "completed"
    },
    "tags": []
   },
   "source": [
    "## 7.\n",
    "We'd like to host these wine reviews on our website, but a rating system ranging from 80 to 100 points is too hard to understand - we'd like to translate them into simple star ratings. A score of 95 or higher counts as 3 stars, a score of at least 85 but less than 95 is 2 stars. Any other score is 1 star.\n",
    "\n",
    "Also, the Canadian Vintners Association bought a lot of ads on the site, so any wines from Canada should automatically get 3 stars, regardless of points.\n",
    "\n",
    "Create a series `star_ratings` with the number of stars corresponding to each review in the dataset."
   ]
  },
  {
   "cell_type": "code",
   "execution_count": 14,
   "id": "d752d51e",
   "metadata": {
    "execution": {
     "iopub.execute_input": "2023-12-10T03:30:01.722121Z",
     "iopub.status.busy": "2023-12-10T03:30:01.720752Z",
     "iopub.status.idle": "2023-12-10T03:30:06.833001Z",
     "shell.execute_reply": "2023-12-10T03:30:06.831874Z"
    },
    "papermill": {
     "duration": 5.127161,
     "end_time": "2023-12-10T03:30:06.835570",
     "exception": false,
     "start_time": "2023-12-10T03:30:01.708409",
     "status": "completed"
    },
    "tags": []
   },
   "outputs": [
    {
     "data": {
      "application/javascript": [
       "parent.postMessage({\"jupyterEvent\": \"custom.exercise_interaction\", \"data\": {\"outcomeType\": 1, \"valueTowardsCompletion\": 0.14285714285714285, \"interactionType\": 1, \"questionType\": 1, \"questionId\": \"7_StarRatings\", \"learnToolsVersion\": \"0.3.4\", \"failureMessage\": \"\", \"exceptionClass\": \"\", \"trace\": \"\"}}, \"*\")"
      ],
      "text/plain": [
       "<IPython.core.display.Javascript object>"
      ]
     },
     "metadata": {},
     "output_type": "display_data"
    },
    {
     "data": {
      "text/markdown": [
       "<span style=\"color:#33cc33\">Correct</span>"
      ],
      "text/plain": [
       "Correct"
      ]
     },
     "metadata": {},
     "output_type": "display_data"
    }
   ],
   "source": [
    "def stars(row):\n",
    "    if row.country == 'Canada':\n",
    "        return 3\n",
    "    elif row.points >= 95:\n",
    "        return 3\n",
    "    elif row.points >= 85:\n",
    "        return 2\n",
    "    else:\n",
    "        return 1\n",
    "star_ratings = reviews.apply(stars, axis='columns')\n",
    "\n",
    "# Check your answer\n",
    "q7.check()"
   ]
  },
  {
   "cell_type": "code",
   "execution_count": 15,
   "id": "53152287",
   "metadata": {
    "execution": {
     "iopub.execute_input": "2023-12-10T03:30:06.861852Z",
     "iopub.status.busy": "2023-12-10T03:30:06.860508Z",
     "iopub.status.idle": "2023-12-10T03:30:06.865624Z",
     "shell.execute_reply": "2023-12-10T03:30:06.864817Z"
    },
    "papermill": {
     "duration": 0.020435,
     "end_time": "2023-12-10T03:30:06.867849",
     "exception": false,
     "start_time": "2023-12-10T03:30:06.847414",
     "status": "completed"
    },
    "tags": []
   },
   "outputs": [],
   "source": [
    "#q7.hint()\n",
    "#q7.solution()"
   ]
  },
  {
   "cell_type": "markdown",
   "id": "9fd37f74",
   "metadata": {
    "papermill": {
     "duration": 0.011634,
     "end_time": "2023-12-10T03:30:06.891059",
     "exception": false,
     "start_time": "2023-12-10T03:30:06.879425",
     "status": "completed"
    },
    "tags": []
   },
   "source": [
    "# Keep going\n",
    "Continue to **[grouping and sorting](https://www.kaggle.com/residentmario/grouping-and-sorting)**."
   ]
  },
  {
   "cell_type": "markdown",
   "id": "dcff3ff2",
   "metadata": {
    "papermill": {
     "duration": 0.011057,
     "end_time": "2023-12-10T03:30:06.913601",
     "exception": false,
     "start_time": "2023-12-10T03:30:06.902544",
     "status": "completed"
    },
    "tags": []
   },
   "source": [
    "---\n",
    "\n",
    "\n",
    "\n",
    "\n",
    "*Have questions or comments? Visit the [course discussion forum](https://www.kaggle.com/learn/pandas/discussion) to chat with other learners.*"
   ]
  }
 ],
 "metadata": {
  "kaggle": {
   "accelerator": "none",
   "dataSources": [
    {
     "datasetId": 655,
     "sourceId": 1252,
     "sourceType": "datasetVersion"
    },
    {
     "datasetId": 2321,
     "sourceId": 3919,
     "sourceType": "datasetVersion"
    },
    {
     "datasetId": 2894,
     "sourceId": 4877,
     "sourceType": "datasetVersion"
    },
    {
     "datasetId": 3491,
     "sourceId": 5624,
     "sourceType": "datasetVersion"
    },
    {
     "datasetId": 1442,
     "sourceId": 8172,
     "sourceType": "datasetVersion"
    },
    {
     "datasetId": 9366,
     "sourceId": 13206,
     "sourceType": "datasetVersion"
    },
    {
     "datasetId": 179555,
     "sourceId": 403916,
     "sourceType": "datasetVersion"
    },
    {
     "datasetId": 4549,
     "sourceId": 466349,
     "sourceType": "datasetVersion"
    },
    {
     "datasetId": 2478,
     "sourceId": 1151655,
     "sourceType": "datasetVersion"
    },
    {
     "datasetId": 10128,
     "sourceId": 5438389,
     "sourceType": "datasetVersion"
    }
   ],
   "isGpuEnabled": false,
   "isInternetEnabled": false,
   "language": "python",
   "sourceType": "notebook"
  },
  "kernelspec": {
   "display_name": "Python 3",
   "language": "python",
   "name": "python3"
  },
  "language_info": {
   "codemirror_mode": {
    "name": "ipython",
    "version": 3
   },
   "file_extension": ".py",
   "mimetype": "text/x-python",
   "name": "python",
   "nbconvert_exporter": "python",
   "pygments_lexer": "ipython3",
   "version": "3.10.12"
  },
  "papermill": {
   "default_parameters": {},
   "duration": 20.313573,
   "end_time": "2023-12-10T03:30:07.445415",
   "environment_variables": {},
   "exception": null,
   "input_path": "__notebook__.ipynb",
   "output_path": "__notebook__.ipynb",
   "parameters": {},
   "start_time": "2023-12-10T03:29:47.131842",
   "version": "2.4.0"
  }
 },
 "nbformat": 4,
 "nbformat_minor": 5
}
