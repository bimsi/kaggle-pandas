{
 "cells": [
  {
   "cell_type": "markdown",
   "id": "a30a1a45",
   "metadata": {
    "papermill": {
     "duration": 0.006485,
     "end_time": "2023-12-10T03:34:17.075965",
     "exception": false,
     "start_time": "2023-12-10T03:34:17.069480",
     "status": "completed"
    },
    "tags": []
   },
   "source": [
    "**This notebook is an exercise in the [Pandas](https://www.kaggle.com/learn/pandas) course.  You can reference the tutorial at [this link](https://www.kaggle.com/residentmario/grouping-and-sorting).**\n",
    "\n",
    "---\n"
   ]
  },
  {
   "cell_type": "markdown",
   "id": "6c3f0d66",
   "metadata": {
    "papermill": {
     "duration": 0.004757,
     "end_time": "2023-12-10T03:34:17.086540",
     "exception": false,
     "start_time": "2023-12-10T03:34:17.081783",
     "status": "completed"
    },
    "tags": []
   },
   "source": [
    "# Introduction\n",
    "\n",
    "In these exercises we'll apply groupwise analysis to our dataset.\n",
    "\n",
    "Run the code cell below to load the data before running the exercises."
   ]
  },
  {
   "cell_type": "code",
   "execution_count": 1,
   "id": "3c349d40",
   "metadata": {
    "execution": {
     "iopub.execute_input": "2023-12-10T03:34:17.099377Z",
     "iopub.status.busy": "2023-12-10T03:34:17.099042Z",
     "iopub.status.idle": "2023-12-10T03:34:19.903230Z",
     "shell.execute_reply": "2023-12-10T03:34:19.901628Z"
    },
    "papermill": {
     "duration": 2.814065,
     "end_time": "2023-12-10T03:34:19.905851",
     "exception": false,
     "start_time": "2023-12-10T03:34:17.091786",
     "status": "completed"
    },
    "tags": []
   },
   "outputs": [
    {
     "name": "stdout",
     "output_type": "stream",
     "text": [
      "Setup complete.\n"
     ]
    }
   ],
   "source": [
    "import pandas as pd\n",
    "\n",
    "reviews = pd.read_csv(\"../input/wine-reviews/winemag-data-130k-v2.csv\", index_col=0)\n",
    "#pd.set_option(\"display.max_rows\", 5)\n",
    "\n",
    "from learntools.core import binder; binder.bind(globals())\n",
    "from learntools.pandas.grouping_and_sorting import *\n",
    "print(\"Setup complete.\")"
   ]
  },
  {
   "cell_type": "markdown",
   "id": "88d185f7",
   "metadata": {
    "papermill": {
     "duration": 0.005033,
     "end_time": "2023-12-10T03:34:19.917185",
     "exception": false,
     "start_time": "2023-12-10T03:34:19.912152",
     "status": "completed"
    },
    "tags": []
   },
   "source": [
    "# Exercises"
   ]
  },
  {
   "cell_type": "markdown",
   "id": "5b99413e",
   "metadata": {
    "papermill": {
     "duration": 0.005024,
     "end_time": "2023-12-10T03:34:19.927368",
     "exception": false,
     "start_time": "2023-12-10T03:34:19.922344",
     "status": "completed"
    },
    "tags": []
   },
   "source": [
    "## 1.\n",
    "Who are the most common wine reviewers in the dataset? Create a `Series` whose index is the `taster_twitter_handle` category from the dataset, and whose values count how many reviews each person wrote."
   ]
  },
  {
   "cell_type": "code",
   "execution_count": 2,
   "id": "4a541d15",
   "metadata": {
    "execution": {
     "iopub.execute_input": "2023-12-10T03:34:19.939782Z",
     "iopub.status.busy": "2023-12-10T03:34:19.939382Z",
     "iopub.status.idle": "2023-12-10T03:34:19.962788Z",
     "shell.execute_reply": "2023-12-10T03:34:19.961660Z"
    },
    "papermill": {
     "duration": 0.031977,
     "end_time": "2023-12-10T03:34:19.964689",
     "exception": false,
     "start_time": "2023-12-10T03:34:19.932712",
     "status": "completed"
    },
    "tags": []
   },
   "outputs": [
    {
     "data": {
      "application/javascript": [
       "parent.postMessage({\"jupyterEvent\": \"custom.exercise_interaction\", \"data\": {\"outcomeType\": 1, \"valueTowardsCompletion\": 0.16666666666666666, \"interactionType\": 1, \"questionType\": 1, \"questionId\": \"1_ReviewsWritten\", \"learnToolsVersion\": \"0.3.4\", \"failureMessage\": \"\", \"exceptionClass\": \"\", \"trace\": \"\"}}, \"*\")"
      ],
      "text/plain": [
       "<IPython.core.display.Javascript object>"
      ]
     },
     "metadata": {},
     "output_type": "display_data"
    },
    {
     "data": {
      "text/markdown": [
       "<span style=\"color:#33cc33\">Correct:</span> \n",
       "\n",
       "\n",
       "```python\n",
       "reviews_written = reviews.groupby('taster_twitter_handle').size()\n",
       "```\n",
       "or\n",
       "```python\n",
       "reviews_written = reviews.groupby('taster_twitter_handle').taster_twitter_handle.count()\n",
       "```\n"
      ],
      "text/plain": [
       "Correct: \n",
       "\n",
       "\n",
       "```python\n",
       "reviews_written = reviews.groupby('taster_twitter_handle').size()\n",
       "```\n",
       "or\n",
       "```python\n",
       "reviews_written = reviews.groupby('taster_twitter_handle').taster_twitter_handle.count()\n",
       "```"
      ]
     },
     "metadata": {},
     "output_type": "display_data"
    }
   ],
   "source": [
    "# Your code here\n",
    "reviews_written = reviews.groupby('taster_twitter_handle').taster_twitter_handle.count()\n",
    "\n",
    "# Check your answer\n",
    "q1.check()"
   ]
  },
  {
   "cell_type": "code",
   "execution_count": 3,
   "id": "06fded4f",
   "metadata": {
    "execution": {
     "iopub.execute_input": "2023-12-10T03:34:19.977162Z",
     "iopub.status.busy": "2023-12-10T03:34:19.976781Z",
     "iopub.status.idle": "2023-12-10T03:34:19.980885Z",
     "shell.execute_reply": "2023-12-10T03:34:19.980013Z"
    },
    "papermill": {
     "duration": 0.013343,
     "end_time": "2023-12-10T03:34:19.983593",
     "exception": false,
     "start_time": "2023-12-10T03:34:19.970250",
     "status": "completed"
    },
    "tags": []
   },
   "outputs": [],
   "source": [
    "#q1.hint()\n",
    "#q1.solution()"
   ]
  },
  {
   "cell_type": "markdown",
   "id": "613464c1",
   "metadata": {
    "papermill": {
     "duration": 0.005662,
     "end_time": "2023-12-10T03:34:19.995269",
     "exception": false,
     "start_time": "2023-12-10T03:34:19.989607",
     "status": "completed"
    },
    "tags": []
   },
   "source": [
    "## 2.\n",
    "What is the best wine I can buy for a given amount of money? Create a `Series` whose index is wine prices and whose values is the maximum number of points a wine costing that much was given in a review. Sort the values by price, ascending (so that `4.0` dollars is at the top and `3300.0` dollars is at the bottom)."
   ]
  },
  {
   "cell_type": "code",
   "execution_count": 4,
   "id": "cb90032c",
   "metadata": {
    "execution": {
     "iopub.execute_input": "2023-12-10T03:34:20.009928Z",
     "iopub.status.busy": "2023-12-10T03:34:20.009484Z",
     "iopub.status.idle": "2023-12-10T03:34:20.023503Z",
     "shell.execute_reply": "2023-12-10T03:34:20.022463Z"
    },
    "papermill": {
     "duration": 0.023838,
     "end_time": "2023-12-10T03:34:20.025265",
     "exception": false,
     "start_time": "2023-12-10T03:34:20.001427",
     "status": "completed"
    },
    "tags": []
   },
   "outputs": [
    {
     "data": {
      "application/javascript": [
       "parent.postMessage({\"jupyterEvent\": \"custom.exercise_interaction\", \"data\": {\"outcomeType\": 1, \"valueTowardsCompletion\": 0.16666666666666666, \"interactionType\": 1, \"questionType\": 1, \"questionId\": \"2_BestRatingPerPrice\", \"learnToolsVersion\": \"0.3.4\", \"failureMessage\": \"\", \"exceptionClass\": \"\", \"trace\": \"\"}}, \"*\")"
      ],
      "text/plain": [
       "<IPython.core.display.Javascript object>"
      ]
     },
     "metadata": {},
     "output_type": "display_data"
    },
    {
     "data": {
      "text/markdown": [
       "<span style=\"color:#33cc33\">Correct</span>"
      ],
      "text/plain": [
       "Correct"
      ]
     },
     "metadata": {},
     "output_type": "display_data"
    }
   ],
   "source": [
    "best_rating_per_price = reviews.groupby('price')['points'].max().sort_index()\n",
    "\n",
    "# Check your answer\n",
    "q2.check()"
   ]
  },
  {
   "cell_type": "code",
   "execution_count": 5,
   "id": "d5fa1a85",
   "metadata": {
    "execution": {
     "iopub.execute_input": "2023-12-10T03:34:20.038005Z",
     "iopub.status.busy": "2023-12-10T03:34:20.037622Z",
     "iopub.status.idle": "2023-12-10T03:34:20.042146Z",
     "shell.execute_reply": "2023-12-10T03:34:20.040977Z"
    },
    "papermill": {
     "duration": 0.012913,
     "end_time": "2023-12-10T03:34:20.043949",
     "exception": false,
     "start_time": "2023-12-10T03:34:20.031036",
     "status": "completed"
    },
    "tags": []
   },
   "outputs": [],
   "source": [
    "#q2.hint()\n",
    "#q2.solution()"
   ]
  },
  {
   "cell_type": "markdown",
   "id": "14c7aebf",
   "metadata": {
    "papermill": {
     "duration": 0.005574,
     "end_time": "2023-12-10T03:34:20.055089",
     "exception": false,
     "start_time": "2023-12-10T03:34:20.049515",
     "status": "completed"
    },
    "tags": []
   },
   "source": [
    "## 3.\n",
    "What are the minimum and maximum prices for each `variety` of wine? Create a `DataFrame` whose index is the `variety` category from the dataset and whose values are the `min` and `max` values thereof."
   ]
  },
  {
   "cell_type": "code",
   "execution_count": 6,
   "id": "a28150bf",
   "metadata": {
    "execution": {
     "iopub.execute_input": "2023-12-10T03:34:20.068043Z",
     "iopub.status.busy": "2023-12-10T03:34:20.067650Z",
     "iopub.status.idle": "2023-12-10T03:34:20.089320Z",
     "shell.execute_reply": "2023-12-10T03:34:20.088128Z"
    },
    "papermill": {
     "duration": 0.030429,
     "end_time": "2023-12-10T03:34:20.091159",
     "exception": false,
     "start_time": "2023-12-10T03:34:20.060730",
     "status": "completed"
    },
    "tags": []
   },
   "outputs": [
    {
     "data": {
      "application/javascript": [
       "parent.postMessage({\"jupyterEvent\": \"custom.exercise_interaction\", \"data\": {\"outcomeType\": 1, \"valueTowardsCompletion\": 0.16666666666666666, \"interactionType\": 1, \"questionType\": 1, \"questionId\": \"3_PriceExtremes\", \"learnToolsVersion\": \"0.3.4\", \"failureMessage\": \"\", \"exceptionClass\": \"\", \"trace\": \"\"}}, \"*\")"
      ],
      "text/plain": [
       "<IPython.core.display.Javascript object>"
      ]
     },
     "metadata": {},
     "output_type": "display_data"
    },
    {
     "data": {
      "text/markdown": [
       "<span style=\"color:#33cc33\">Correct</span>"
      ],
      "text/plain": [
       "Correct"
      ]
     },
     "metadata": {},
     "output_type": "display_data"
    }
   ],
   "source": [
    "price_extremes = reviews.groupby('variety').price.agg([min,max])\n",
    "\n",
    "# Check your answer\n",
    "q3.check()"
   ]
  },
  {
   "cell_type": "code",
   "execution_count": 7,
   "id": "d2a2318d",
   "metadata": {
    "execution": {
     "iopub.execute_input": "2023-12-10T03:34:20.105459Z",
     "iopub.status.busy": "2023-12-10T03:34:20.105107Z",
     "iopub.status.idle": "2023-12-10T03:34:20.108770Z",
     "shell.execute_reply": "2023-12-10T03:34:20.107892Z"
    },
    "papermill": {
     "duration": 0.013939,
     "end_time": "2023-12-10T03:34:20.111172",
     "exception": false,
     "start_time": "2023-12-10T03:34:20.097233",
     "status": "completed"
    },
    "tags": []
   },
   "outputs": [],
   "source": [
    "#q3.hint()\n",
    "#q3.solution()"
   ]
  },
  {
   "cell_type": "markdown",
   "id": "a9dc7de7",
   "metadata": {
    "papermill": {
     "duration": 0.005606,
     "end_time": "2023-12-10T03:34:20.124118",
     "exception": false,
     "start_time": "2023-12-10T03:34:20.118512",
     "status": "completed"
    },
    "tags": []
   },
   "source": [
    "## 4.\n",
    "What are the most expensive wine varieties? Create a variable `sorted_varieties` containing a copy of the dataframe from the previous question where varieties are sorted in descending order based on minimum price, then on maximum price (to break ties)."
   ]
  },
  {
   "cell_type": "code",
   "execution_count": 8,
   "id": "b3fdd919",
   "metadata": {
    "execution": {
     "iopub.execute_input": "2023-12-10T03:34:20.137291Z",
     "iopub.status.busy": "2023-12-10T03:34:20.136932Z",
     "iopub.status.idle": "2023-12-10T03:34:20.159542Z",
     "shell.execute_reply": "2023-12-10T03:34:20.158651Z"
    },
    "papermill": {
     "duration": 0.032488,
     "end_time": "2023-12-10T03:34:20.162326",
     "exception": false,
     "start_time": "2023-12-10T03:34:20.129838",
     "status": "completed"
    },
    "tags": []
   },
   "outputs": [
    {
     "data": {
      "application/javascript": [
       "parent.postMessage({\"jupyterEvent\": \"custom.exercise_interaction\", \"data\": {\"outcomeType\": 1, \"valueTowardsCompletion\": 0.16666666666666666, \"interactionType\": 1, \"questionType\": 1, \"questionId\": \"4_SortedVarieties\", \"learnToolsVersion\": \"0.3.4\", \"failureMessage\": \"\", \"exceptionClass\": \"\", \"trace\": \"\"}}, \"*\")"
      ],
      "text/plain": [
       "<IPython.core.display.Javascript object>"
      ]
     },
     "metadata": {},
     "output_type": "display_data"
    },
    {
     "data": {
      "text/markdown": [
       "<span style=\"color:#33cc33\">Correct</span>"
      ],
      "text/plain": [
       "Correct"
      ]
     },
     "metadata": {},
     "output_type": "display_data"
    }
   ],
   "source": [
    "sorted_varieties = reviews.groupby('variety').price.agg([min,max]).sort_values(by=['min', 'max'], ascending=False)\n",
    "\n",
    "# Check your answer\n",
    "q4.check()"
   ]
  },
  {
   "cell_type": "code",
   "execution_count": 9,
   "id": "a7808778",
   "metadata": {
    "execution": {
     "iopub.execute_input": "2023-12-10T03:34:20.176737Z",
     "iopub.status.busy": "2023-12-10T03:34:20.176237Z",
     "iopub.status.idle": "2023-12-10T03:34:20.179797Z",
     "shell.execute_reply": "2023-12-10T03:34:20.179156Z"
    },
    "papermill": {
     "duration": 0.012602,
     "end_time": "2023-12-10T03:34:20.181513",
     "exception": false,
     "start_time": "2023-12-10T03:34:20.168911",
     "status": "completed"
    },
    "tags": []
   },
   "outputs": [],
   "source": [
    "#q4.hint()\n",
    "#q4.solution()"
   ]
  },
  {
   "cell_type": "markdown",
   "id": "3f042c2f",
   "metadata": {
    "papermill": {
     "duration": 0.005668,
     "end_time": "2023-12-10T03:34:20.193503",
     "exception": false,
     "start_time": "2023-12-10T03:34:20.187835",
     "status": "completed"
    },
    "tags": []
   },
   "source": [
    "## 5.\n",
    "Create a `Series` whose index is reviewers and whose values is the average review score given out by that reviewer. Hint: you will need the `taster_name` and `points` columns."
   ]
  },
  {
   "cell_type": "code",
   "execution_count": 10,
   "id": "afba94cd",
   "metadata": {
    "execution": {
     "iopub.execute_input": "2023-12-10T03:34:20.208287Z",
     "iopub.status.busy": "2023-12-10T03:34:20.207783Z",
     "iopub.status.idle": "2023-12-10T03:34:20.227098Z",
     "shell.execute_reply": "2023-12-10T03:34:20.225898Z"
    },
    "papermill": {
     "duration": 0.029485,
     "end_time": "2023-12-10T03:34:20.229212",
     "exception": false,
     "start_time": "2023-12-10T03:34:20.199727",
     "status": "completed"
    },
    "tags": []
   },
   "outputs": [
    {
     "data": {
      "application/javascript": [
       "parent.postMessage({\"jupyterEvent\": \"custom.exercise_interaction\", \"data\": {\"outcomeType\": 1, \"valueTowardsCompletion\": 0.16666666666666666, \"interactionType\": 1, \"questionType\": 1, \"questionId\": \"5_ReviewerMeanRatings\", \"learnToolsVersion\": \"0.3.4\", \"failureMessage\": \"\", \"exceptionClass\": \"\", \"trace\": \"\"}}, \"*\")"
      ],
      "text/plain": [
       "<IPython.core.display.Javascript object>"
      ]
     },
     "metadata": {},
     "output_type": "display_data"
    },
    {
     "data": {
      "text/markdown": [
       "<span style=\"color:#33cc33\">Correct</span>"
      ],
      "text/plain": [
       "Correct"
      ]
     },
     "metadata": {},
     "output_type": "display_data"
    }
   ],
   "source": [
    "reviewer_mean_ratings = reviews.groupby('taster_name').points.mean()\n",
    "\n",
    "# Check your answer\n",
    "q5.check()"
   ]
  },
  {
   "cell_type": "code",
   "execution_count": 11,
   "id": "f0fa50ff",
   "metadata": {
    "execution": {
     "iopub.execute_input": "2023-12-10T03:34:20.243163Z",
     "iopub.status.busy": "2023-12-10T03:34:20.242807Z",
     "iopub.status.idle": "2023-12-10T03:34:20.246814Z",
     "shell.execute_reply": "2023-12-10T03:34:20.245749Z"
    },
    "papermill": {
     "duration": 0.012972,
     "end_time": "2023-12-10T03:34:20.248499",
     "exception": false,
     "start_time": "2023-12-10T03:34:20.235527",
     "status": "completed"
    },
    "tags": []
   },
   "outputs": [],
   "source": [
    "#q5.hint()\n",
    "#q5.solution()"
   ]
  },
  {
   "cell_type": "markdown",
   "id": "8e5fbe76",
   "metadata": {
    "papermill": {
     "duration": 0.005796,
     "end_time": "2023-12-10T03:34:20.260578",
     "exception": false,
     "start_time": "2023-12-10T03:34:20.254782",
     "status": "completed"
    },
    "tags": []
   },
   "source": [
    "Are there significant differences in the average scores assigned by the various reviewers? Run the cell below to use the `describe()` method to see a summary of the range of values."
   ]
  },
  {
   "cell_type": "code",
   "execution_count": 12,
   "id": "ea7f9f9c",
   "metadata": {
    "execution": {
     "iopub.execute_input": "2023-12-10T03:34:20.275137Z",
     "iopub.status.busy": "2023-12-10T03:34:20.273917Z",
     "iopub.status.idle": "2023-12-10T03:34:20.285783Z",
     "shell.execute_reply": "2023-12-10T03:34:20.284828Z"
    },
    "papermill": {
     "duration": 0.020952,
     "end_time": "2023-12-10T03:34:20.287602",
     "exception": false,
     "start_time": "2023-12-10T03:34:20.266650",
     "status": "completed"
    },
    "tags": []
   },
   "outputs": [
    {
     "data": {
      "text/plain": [
       "count    19.000000\n",
       "mean     88.233026\n",
       "std       1.243610\n",
       "min      85.855422\n",
       "25%      87.323501\n",
       "50%      88.536235\n",
       "75%      88.975256\n",
       "max      90.562551\n",
       "Name: points, dtype: float64"
      ]
     },
     "execution_count": 12,
     "metadata": {},
     "output_type": "execute_result"
    }
   ],
   "source": [
    "reviewer_mean_ratings.describe()"
   ]
  },
  {
   "cell_type": "markdown",
   "id": "82898867",
   "metadata": {
    "papermill": {
     "duration": 0.006026,
     "end_time": "2023-12-10T03:34:20.301502",
     "exception": false,
     "start_time": "2023-12-10T03:34:20.295476",
     "status": "completed"
    },
    "tags": []
   },
   "source": [
    "## 6.\n",
    "What combination of countries and varieties are most common? Create a `Series` whose index is a `MultiIndex`of `{country, variety}` pairs. For example, a pinot noir produced in the US should map to `{\"US\", \"Pinot Noir\"}`. Sort the values in the `Series` in descending order based on wine count."
   ]
  },
  {
   "cell_type": "code",
   "execution_count": 13,
   "id": "7b9d309f",
   "metadata": {
    "execution": {
     "iopub.execute_input": "2023-12-10T03:34:20.316198Z",
     "iopub.status.busy": "2023-12-10T03:34:20.314970Z",
     "iopub.status.idle": "2023-12-10T03:34:20.346971Z",
     "shell.execute_reply": "2023-12-10T03:34:20.345741Z"
    },
    "papermill": {
     "duration": 0.041322,
     "end_time": "2023-12-10T03:34:20.348913",
     "exception": false,
     "start_time": "2023-12-10T03:34:20.307591",
     "status": "completed"
    },
    "tags": []
   },
   "outputs": [
    {
     "data": {
      "application/javascript": [
       "parent.postMessage({\"jupyterEvent\": \"custom.exercise_interaction\", \"data\": {\"outcomeType\": 1, \"valueTowardsCompletion\": 0.16666666666666666, \"interactionType\": 1, \"questionType\": 1, \"questionId\": \"6_GroupbyCountryVariety\", \"learnToolsVersion\": \"0.3.4\", \"failureMessage\": \"\", \"exceptionClass\": \"\", \"trace\": \"\"}}, \"*\")"
      ],
      "text/plain": [
       "<IPython.core.display.Javascript object>"
      ]
     },
     "metadata": {},
     "output_type": "display_data"
    },
    {
     "data": {
      "text/markdown": [
       "<span style=\"color:#33cc33\">Correct</span>"
      ],
      "text/plain": [
       "Correct"
      ]
     },
     "metadata": {},
     "output_type": "display_data"
    }
   ],
   "source": [
    "country_variety_counts = reviews.groupby(['country','variety']).size().sort_values(ascending=False)\n",
    "\n",
    "# Check your answer\n",
    "q6.check()"
   ]
  },
  {
   "cell_type": "code",
   "execution_count": 14,
   "id": "6f73fcd3",
   "metadata": {
    "execution": {
     "iopub.execute_input": "2023-12-10T03:34:20.363641Z",
     "iopub.status.busy": "2023-12-10T03:34:20.363286Z",
     "iopub.status.idle": "2023-12-10T03:34:20.367338Z",
     "shell.execute_reply": "2023-12-10T03:34:20.366437Z"
    },
    "papermill": {
     "duration": 0.013673,
     "end_time": "2023-12-10T03:34:20.369215",
     "exception": false,
     "start_time": "2023-12-10T03:34:20.355542",
     "status": "completed"
    },
    "tags": []
   },
   "outputs": [],
   "source": [
    "#q6.hint()\n",
    "#q6.solution()"
   ]
  },
  {
   "cell_type": "markdown",
   "id": "b7b6a161",
   "metadata": {
    "papermill": {
     "duration": 0.006939,
     "end_time": "2023-12-10T03:34:20.383551",
     "exception": false,
     "start_time": "2023-12-10T03:34:20.376612",
     "status": "completed"
    },
    "tags": []
   },
   "source": [
    "# Keep going\n",
    "\n",
    "Move on to the [**data types and missing data**](https://www.kaggle.com/residentmario/data-types-and-missing-values)."
   ]
  },
  {
   "cell_type": "markdown",
   "id": "fa9d999c",
   "metadata": {
    "papermill": {
     "duration": 0.006361,
     "end_time": "2023-12-10T03:34:20.396933",
     "exception": false,
     "start_time": "2023-12-10T03:34:20.390572",
     "status": "completed"
    },
    "tags": []
   },
   "source": [
    "---\n",
    "\n",
    "\n",
    "\n",
    "\n",
    "*Have questions or comments? Visit the [course discussion forum](https://www.kaggle.com/learn/pandas/discussion) to chat with other learners.*"
   ]
  }
 ],
 "metadata": {
  "kaggle": {
   "accelerator": "none",
   "dataSources": [
    {
     "datasetId": 655,
     "sourceId": 1252,
     "sourceType": "datasetVersion"
    },
    {
     "datasetId": 2321,
     "sourceId": 3919,
     "sourceType": "datasetVersion"
    },
    {
     "datasetId": 2894,
     "sourceId": 4877,
     "sourceType": "datasetVersion"
    },
    {
     "datasetId": 3491,
     "sourceId": 5624,
     "sourceType": "datasetVersion"
    },
    {
     "datasetId": 1442,
     "sourceId": 8172,
     "sourceType": "datasetVersion"
    },
    {
     "datasetId": 9366,
     "sourceId": 13206,
     "sourceType": "datasetVersion"
    },
    {
     "datasetId": 179555,
     "sourceId": 403916,
     "sourceType": "datasetVersion"
    },
    {
     "datasetId": 4549,
     "sourceId": 466349,
     "sourceType": "datasetVersion"
    },
    {
     "datasetId": 2478,
     "sourceId": 1151655,
     "sourceType": "datasetVersion"
    },
    {
     "datasetId": 10128,
     "sourceId": 5438389,
     "sourceType": "datasetVersion"
    }
   ],
   "isGpuEnabled": false,
   "isInternetEnabled": false,
   "language": "python",
   "sourceType": "notebook"
  },
  "kernelspec": {
   "display_name": "Python 3",
   "language": "python",
   "name": "python3"
  },
  "language_info": {
   "codemirror_mode": {
    "name": "ipython",
    "version": 3
   },
   "file_extension": ".py",
   "mimetype": "text/x-python",
   "name": "python",
   "nbconvert_exporter": "python",
   "pygments_lexer": "ipython3",
   "version": "3.10.12"
  },
  "papermill": {
   "default_parameters": {},
   "duration": 6.414982,
   "end_time": "2023-12-10T03:34:20.823951",
   "environment_variables": {},
   "exception": null,
   "input_path": "__notebook__.ipynb",
   "output_path": "__notebook__.ipynb",
   "parameters": {},
   "start_time": "2023-12-10T03:34:14.408969",
   "version": "2.4.0"
  }
 },
 "nbformat": 4,
 "nbformat_minor": 5
}
