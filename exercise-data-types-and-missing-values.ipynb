{
 "cells": [
  {
   "cell_type": "markdown",
   "id": "e2fc10d4",
   "metadata": {
    "papermill": {
     "duration": 0.006801,
     "end_time": "2023-12-10T03:42:20.315637",
     "exception": false,
     "start_time": "2023-12-10T03:42:20.308836",
     "status": "completed"
    },
    "tags": []
   },
   "source": [
    "**This notebook is an exercise in the [Pandas](https://www.kaggle.com/learn/pandas) course.  You can reference the tutorial at [this link](https://www.kaggle.com/residentmario/data-types-and-missing-values).**\n",
    "\n",
    "---\n"
   ]
  },
  {
   "cell_type": "markdown",
   "id": "7064c00d",
   "metadata": {
    "papermill": {
     "duration": 0.005607,
     "end_time": "2023-12-10T03:42:20.327440",
     "exception": false,
     "start_time": "2023-12-10T03:42:20.321833",
     "status": "completed"
    },
    "tags": []
   },
   "source": [
    "# Introduction\n",
    "\n",
    "Run the following cell to load your data and some utility functions."
   ]
  },
  {
   "cell_type": "code",
   "execution_count": 1,
   "id": "e3fe2f5c",
   "metadata": {
    "execution": {
     "iopub.execute_input": "2023-12-10T03:42:20.341107Z",
     "iopub.status.busy": "2023-12-10T03:42:20.340673Z",
     "iopub.status.idle": "2023-12-10T03:42:23.922900Z",
     "shell.execute_reply": "2023-12-10T03:42:23.921037Z"
    },
    "papermill": {
     "duration": 3.592187,
     "end_time": "2023-12-10T03:42:23.925454",
     "exception": false,
     "start_time": "2023-12-10T03:42:20.333267",
     "status": "completed"
    },
    "tags": []
   },
   "outputs": [
    {
     "name": "stdout",
     "output_type": "stream",
     "text": [
      "Setup complete.\n"
     ]
    }
   ],
   "source": [
    "import pandas as pd\n",
    "\n",
    "reviews = pd.read_csv(\"../input/wine-reviews/winemag-data-130k-v2.csv\", index_col=0)\n",
    "\n",
    "from learntools.core import binder; binder.bind(globals())\n",
    "from learntools.pandas.data_types_and_missing_data import *\n",
    "print(\"Setup complete.\")"
   ]
  },
  {
   "cell_type": "markdown",
   "id": "7472f5ab",
   "metadata": {
    "papermill": {
     "duration": 0.005891,
     "end_time": "2023-12-10T03:42:23.937598",
     "exception": false,
     "start_time": "2023-12-10T03:42:23.931707",
     "status": "completed"
    },
    "tags": []
   },
   "source": [
    "# Exercises"
   ]
  },
  {
   "cell_type": "markdown",
   "id": "d5131941",
   "metadata": {
    "papermill": {
     "duration": 0.005759,
     "end_time": "2023-12-10T03:42:23.949964",
     "exception": false,
     "start_time": "2023-12-10T03:42:23.944205",
     "status": "completed"
    },
    "tags": []
   },
   "source": [
    "## 1. \n",
    "What is the data type of the `points` column in the dataset?"
   ]
  },
  {
   "cell_type": "code",
   "execution_count": 2,
   "id": "e3e06ada",
   "metadata": {
    "execution": {
     "iopub.execute_input": "2023-12-10T03:42:23.963668Z",
     "iopub.status.busy": "2023-12-10T03:42:23.963294Z",
     "iopub.status.idle": "2023-12-10T03:42:23.973664Z",
     "shell.execute_reply": "2023-12-10T03:42:23.972654Z"
    },
    "papermill": {
     "duration": 0.020047,
     "end_time": "2023-12-10T03:42:23.975985",
     "exception": false,
     "start_time": "2023-12-10T03:42:23.955938",
     "status": "completed"
    },
    "tags": []
   },
   "outputs": [
    {
     "data": {
      "application/javascript": [
       "parent.postMessage({\"jupyterEvent\": \"custom.exercise_interaction\", \"data\": {\"outcomeType\": 1, \"valueTowardsCompletion\": 0.25, \"interactionType\": 1, \"questionType\": 1, \"questionId\": \"1_PointsDtype\", \"learnToolsVersion\": \"0.3.4\", \"failureMessage\": \"\", \"exceptionClass\": \"\", \"trace\": \"\"}}, \"*\")"
      ],
      "text/plain": [
       "<IPython.core.display.Javascript object>"
      ]
     },
     "metadata": {},
     "output_type": "display_data"
    },
    {
     "data": {
      "text/markdown": [
       "<span style=\"color:#33cc33\">Correct</span>"
      ],
      "text/plain": [
       "Correct"
      ]
     },
     "metadata": {},
     "output_type": "display_data"
    }
   ],
   "source": [
    "# Your code here\n",
    "dtype = reviews.points.dtype\n",
    "\n",
    "# Check your answer\n",
    "q1.check()"
   ]
  },
  {
   "cell_type": "code",
   "execution_count": 3,
   "id": "a475632d",
   "metadata": {
    "execution": {
     "iopub.execute_input": "2023-12-10T03:42:23.990795Z",
     "iopub.status.busy": "2023-12-10T03:42:23.990424Z",
     "iopub.status.idle": "2023-12-10T03:42:23.995196Z",
     "shell.execute_reply": "2023-12-10T03:42:23.993909Z"
    },
    "papermill": {
     "duration": 0.015019,
     "end_time": "2023-12-10T03:42:23.997517",
     "exception": false,
     "start_time": "2023-12-10T03:42:23.982498",
     "status": "completed"
    },
    "tags": []
   },
   "outputs": [],
   "source": [
    "#q1.hint()\n",
    "#q1.solution()"
   ]
  },
  {
   "cell_type": "markdown",
   "id": "2521b7e6",
   "metadata": {
    "papermill": {
     "duration": 0.006389,
     "end_time": "2023-12-10T03:42:24.010534",
     "exception": false,
     "start_time": "2023-12-10T03:42:24.004145",
     "status": "completed"
    },
    "tags": []
   },
   "source": [
    "## 2. \n",
    "Create a Series from entries in the `points` column, but convert the entries to strings. Hint: strings are `str` in native Python."
   ]
  },
  {
   "cell_type": "code",
   "execution_count": 4,
   "id": "25c12eb5",
   "metadata": {
    "execution": {
     "iopub.execute_input": "2023-12-10T03:42:24.026134Z",
     "iopub.status.busy": "2023-12-10T03:42:24.025370Z",
     "iopub.status.idle": "2023-12-10T03:42:24.129286Z",
     "shell.execute_reply": "2023-12-10T03:42:24.128163Z"
    },
    "papermill": {
     "duration": 0.11428,
     "end_time": "2023-12-10T03:42:24.131661",
     "exception": false,
     "start_time": "2023-12-10T03:42:24.017381",
     "status": "completed"
    },
    "tags": []
   },
   "outputs": [
    {
     "data": {
      "application/javascript": [
       "parent.postMessage({\"jupyterEvent\": \"custom.exercise_interaction\", \"data\": {\"outcomeType\": 1, \"valueTowardsCompletion\": 0.25, \"interactionType\": 1, \"questionType\": 1, \"questionId\": \"2_StrPoints\", \"learnToolsVersion\": \"0.3.4\", \"failureMessage\": \"\", \"exceptionClass\": \"\", \"trace\": \"\"}}, \"*\")"
      ],
      "text/plain": [
       "<IPython.core.display.Javascript object>"
      ]
     },
     "metadata": {},
     "output_type": "display_data"
    },
    {
     "data": {
      "text/markdown": [
       "<span style=\"color:#33cc33\">Correct</span>"
      ],
      "text/plain": [
       "Correct"
      ]
     },
     "metadata": {},
     "output_type": "display_data"
    }
   ],
   "source": [
    "point_strings = reviews.points.astype('str')\n",
    "\n",
    "# Check your answer\n",
    "q2.check()"
   ]
  },
  {
   "cell_type": "code",
   "execution_count": 5,
   "id": "892feec9",
   "metadata": {
    "execution": {
     "iopub.execute_input": "2023-12-10T03:42:24.147253Z",
     "iopub.status.busy": "2023-12-10T03:42:24.146811Z",
     "iopub.status.idle": "2023-12-10T03:42:24.151501Z",
     "shell.execute_reply": "2023-12-10T03:42:24.150396Z"
    },
    "papermill": {
     "duration": 0.015319,
     "end_time": "2023-12-10T03:42:24.153974",
     "exception": false,
     "start_time": "2023-12-10T03:42:24.138655",
     "status": "completed"
    },
    "tags": []
   },
   "outputs": [],
   "source": [
    "#q2.hint()\n",
    "#q2.solution()"
   ]
  },
  {
   "cell_type": "markdown",
   "id": "643e2381",
   "metadata": {
    "papermill": {
     "duration": 0.006877,
     "end_time": "2023-12-10T03:42:24.167994",
     "exception": false,
     "start_time": "2023-12-10T03:42:24.161117",
     "status": "completed"
    },
    "tags": []
   },
   "source": [
    "## 3.\n",
    "Sometimes the price column is null. How many reviews in the dataset are missing a price?"
   ]
  },
  {
   "cell_type": "code",
   "execution_count": 6,
   "id": "bb741f34",
   "metadata": {
    "execution": {
     "iopub.execute_input": "2023-12-10T03:42:24.183559Z",
     "iopub.status.busy": "2023-12-10T03:42:24.183132Z",
     "iopub.status.idle": "2023-12-10T03:42:24.193151Z",
     "shell.execute_reply": "2023-12-10T03:42:24.192154Z"
    },
    "papermill": {
     "duration": 0.020697,
     "end_time": "2023-12-10T03:42:24.195627",
     "exception": false,
     "start_time": "2023-12-10T03:42:24.174930",
     "status": "completed"
    },
    "tags": []
   },
   "outputs": [
    {
     "data": {
      "application/javascript": [
       "parent.postMessage({\"jupyterEvent\": \"custom.exercise_interaction\", \"data\": {\"outcomeType\": 1, \"valueTowardsCompletion\": 0.25, \"interactionType\": 1, \"questionType\": 1, \"questionId\": \"3_CountMissingPrices\", \"learnToolsVersion\": \"0.3.4\", \"failureMessage\": \"\", \"exceptionClass\": \"\", \"trace\": \"\"}}, \"*\")"
      ],
      "text/plain": [
       "<IPython.core.display.Javascript object>"
      ]
     },
     "metadata": {},
     "output_type": "display_data"
    },
    {
     "data": {
      "text/markdown": [
       "<span style=\"color:#33cc33\">Correct</span>"
      ],
      "text/plain": [
       "Correct"
      ]
     },
     "metadata": {},
     "output_type": "display_data"
    }
   ],
   "source": [
    "n_missing_prices = reviews.price.isnull().sum()\n",
    "\n",
    "# Check your answer\n",
    "q3.check()"
   ]
  },
  {
   "cell_type": "code",
   "execution_count": 7,
   "id": "42c6d56b",
   "metadata": {
    "execution": {
     "iopub.execute_input": "2023-12-10T03:42:24.211590Z",
     "iopub.status.busy": "2023-12-10T03:42:24.211220Z",
     "iopub.status.idle": "2023-12-10T03:42:24.216027Z",
     "shell.execute_reply": "2023-12-10T03:42:24.214874Z"
    },
    "papermill": {
     "duration": 0.016153,
     "end_time": "2023-12-10T03:42:24.218939",
     "exception": false,
     "start_time": "2023-12-10T03:42:24.202786",
     "status": "completed"
    },
    "tags": []
   },
   "outputs": [],
   "source": [
    "#q3.hint()\n",
    "#q3.solution()"
   ]
  },
  {
   "cell_type": "markdown",
   "id": "3d7a3ae7",
   "metadata": {
    "papermill": {
     "duration": 0.007004,
     "end_time": "2023-12-10T03:42:24.233797",
     "exception": false,
     "start_time": "2023-12-10T03:42:24.226793",
     "status": "completed"
    },
    "tags": []
   },
   "source": [
    "## 4.\n",
    "What are the most common wine-producing regions? Create a Series counting the number of times each value occurs in the `region_1` field. This field is often missing data, so replace missing values with `Unknown`. Sort in descending order.  Your output should look something like this:\n",
    "\n",
    "```\n",
    "Unknown                    21247\n",
    "Napa Valley                 4480\n",
    "                           ...  \n",
    "Bardolino Superiore            1\n",
    "Primitivo del Tarantino        1\n",
    "Name: region_1, Length: 1230, dtype: int64\n",
    "```"
   ]
  },
  {
   "cell_type": "code",
   "execution_count": 8,
   "id": "025e9f94",
   "metadata": {
    "execution": {
     "iopub.execute_input": "2023-12-10T03:42:24.250009Z",
     "iopub.status.busy": "2023-12-10T03:42:24.249618Z",
     "iopub.status.idle": "2023-12-10T03:42:24.333021Z",
     "shell.execute_reply": "2023-12-10T03:42:24.331926Z"
    },
    "papermill": {
     "duration": 0.094499,
     "end_time": "2023-12-10T03:42:24.335520",
     "exception": false,
     "start_time": "2023-12-10T03:42:24.241021",
     "status": "completed"
    },
    "tags": []
   },
   "outputs": [
    {
     "data": {
      "application/javascript": [
       "parent.postMessage({\"jupyterEvent\": \"custom.exercise_interaction\", \"data\": {\"outcomeType\": 1, \"valueTowardsCompletion\": 0.25, \"interactionType\": 1, \"questionType\": 2, \"questionId\": \"4_ReviewsPerRegion\", \"learnToolsVersion\": \"0.3.4\", \"failureMessage\": \"\", \"exceptionClass\": \"\", \"trace\": \"\"}}, \"*\")"
      ],
      "text/plain": [
       "<IPython.core.display.Javascript object>"
      ]
     },
     "metadata": {},
     "output_type": "display_data"
    },
    {
     "data": {
      "text/markdown": [
       "<span style=\"color:#33cc33\">Correct</span>"
      ],
      "text/plain": [
       "Correct"
      ]
     },
     "metadata": {},
     "output_type": "display_data"
    }
   ],
   "source": [
    "reviews_per_region = reviews.region_1.fillna('Unknown').value_counts().sort_values(ascending=False)\n",
    "\n",
    "# Check your answer\n",
    "q4.check()"
   ]
  },
  {
   "cell_type": "code",
   "execution_count": 9,
   "id": "3e11578f",
   "metadata": {
    "execution": {
     "iopub.execute_input": "2023-12-10T03:42:24.353383Z",
     "iopub.status.busy": "2023-12-10T03:42:24.352281Z",
     "iopub.status.idle": "2023-12-10T03:42:24.357282Z",
     "shell.execute_reply": "2023-12-10T03:42:24.356228Z"
    },
    "papermill": {
     "duration": 0.016521,
     "end_time": "2023-12-10T03:42:24.359692",
     "exception": false,
     "start_time": "2023-12-10T03:42:24.343171",
     "status": "completed"
    },
    "tags": []
   },
   "outputs": [],
   "source": [
    "#q4.hint()\n",
    "#q4.solution()"
   ]
  },
  {
   "cell_type": "markdown",
   "id": "5bfb3d71",
   "metadata": {
    "papermill": {
     "duration": 0.007286,
     "end_time": "2023-12-10T03:42:24.374710",
     "exception": false,
     "start_time": "2023-12-10T03:42:24.367424",
     "status": "completed"
    },
    "tags": []
   },
   "source": [
    "# Keep going\n",
    "\n",
    "Move on to **[renaming and combining](https://www.kaggle.com/residentmario/renaming-and-combining)**."
   ]
  },
  {
   "cell_type": "markdown",
   "id": "fb37b0db",
   "metadata": {
    "papermill": {
     "duration": 0.007311,
     "end_time": "2023-12-10T03:42:24.389812",
     "exception": false,
     "start_time": "2023-12-10T03:42:24.382501",
     "status": "completed"
    },
    "tags": []
   },
   "source": [
    "---\n",
    "\n",
    "\n",
    "\n",
    "\n",
    "*Have questions or comments? Visit the [course discussion forum](https://www.kaggle.com/learn/pandas/discussion) to chat with other learners.*"
   ]
  }
 ],
 "metadata": {
  "kaggle": {
   "accelerator": "none",
   "dataSources": [
    {
     "datasetId": 655,
     "sourceId": 1252,
     "sourceType": "datasetVersion"
    },
    {
     "datasetId": 2321,
     "sourceId": 3919,
     "sourceType": "datasetVersion"
    },
    {
     "datasetId": 2894,
     "sourceId": 4877,
     "sourceType": "datasetVersion"
    },
    {
     "datasetId": 3491,
     "sourceId": 5624,
     "sourceType": "datasetVersion"
    },
    {
     "datasetId": 1442,
     "sourceId": 8172,
     "sourceType": "datasetVersion"
    },
    {
     "datasetId": 9366,
     "sourceId": 13206,
     "sourceType": "datasetVersion"
    },
    {
     "datasetId": 179555,
     "sourceId": 403916,
     "sourceType": "datasetVersion"
    },
    {
     "datasetId": 4549,
     "sourceId": 466349,
     "sourceType": "datasetVersion"
    },
    {
     "datasetId": 2478,
     "sourceId": 1151655,
     "sourceType": "datasetVersion"
    },
    {
     "datasetId": 10128,
     "sourceId": 5438389,
     "sourceType": "datasetVersion"
    }
   ],
   "isGpuEnabled": false,
   "isInternetEnabled": false,
   "language": "python",
   "sourceType": "notebook"
  },
  "kernelspec": {
   "display_name": "Python 3",
   "language": "python",
   "name": "python3"
  },
  "language_info": {
   "codemirror_mode": {
    "name": "ipython",
    "version": 3
   },
   "file_extension": ".py",
   "mimetype": "text/x-python",
   "name": "python",
   "nbconvert_exporter": "python",
   "pygments_lexer": "ipython3",
   "version": "3.10.12"
  },
  "papermill": {
   "default_parameters": {},
   "duration": 8.05603,
   "end_time": "2023-12-10T03:42:24.918672",
   "environment_variables": {},
   "exception": null,
   "input_path": "__notebook__.ipynb",
   "output_path": "__notebook__.ipynb",
   "parameters": {},
   "start_time": "2023-12-10T03:42:16.862642",
   "version": "2.4.0"
  }
 },
 "nbformat": 4,
 "nbformat_minor": 5
}
